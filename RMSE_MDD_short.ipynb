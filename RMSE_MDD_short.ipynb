{
  "nbformat": 4,
  "nbformat_minor": 0,
  "metadata": {
    "colab": {
      "provenance": [],
      "authorship_tag": "ABX9TyM3oDevhNHTcu2gUAu6OGlt",
      "include_colab_link": true
    },
    "kernelspec": {
      "name": "python3",
      "display_name": "Python 3"
    },
    "language_info": {
      "name": "python"
    }
  },
  "cells": [
    {
      "cell_type": "markdown",
      "metadata": {
        "id": "view-in-github",
        "colab_type": "text"
      },
      "source": [
        "<a href=\"https://colab.research.google.com/github/hbparache/SAR_ARD_opensource_comparison/blob/main/RMSE_MDD_short.ipynb\" target=\"_parent\"><img src=\"https://colab.research.google.com/assets/colab-badge.svg\" alt=\"Open In Colab\"/></a>"
      ]
    },
    {
      "cell_type": "code",
      "source": [
        "import pandas as pd\n",
        "import math\n",
        "import numpy as np\n",
        "from sklearn.metrics import mean_squared_error "
      ],
      "metadata": {
        "id": "bGOnZr0nM1zt"
      },
      "execution_count": 1,
      "outputs": []
    },
    {
      "cell_type": "code",
      "source": [
        "# Connecting to Google Drive\n",
        "from google.colab import drive\n",
        "drive.mount ('/content/drive/', force_remount=True)"
      ],
      "metadata": {
        "colab": {
          "base_uri": "https://localhost:8080/"
        },
        "id": "Hbigc7VAL_3N",
        "outputId": "276c75ea-2e83-4e07-a851-7b971a3169be"
      },
      "execution_count": 2,
      "outputs": [
        {
          "output_type": "stream",
          "name": "stdout",
          "text": [
            "Mounted at /content/drive/\n"
          ]
        }
      ]
    },
    {
      "cell_type": "code",
      "source": [
        "ls"
      ],
      "metadata": {
        "colab": {
          "base_uri": "https://localhost:8080/"
        },
        "id": "y-3sah6dMIu1",
        "outputId": "bda93c9e-8f7d-4ad0-c851-132d5dbbdd93"
      },
      "execution_count": 3,
      "outputs": [
        {
          "output_type": "stream",
          "name": "stdout",
          "text": [
            "\u001b[0m\u001b[01;34mdrive\u001b[0m/  \u001b[01;34msample_data\u001b[0m/\n"
          ]
        }
      ]
    },
    {
      "cell_type": "code",
      "source": [
        "cd /content/drive/MyDrive/RMSE_prep/MDD"
      ],
      "metadata": {
        "colab": {
          "base_uri": "https://localhost:8080/"
        },
        "id": "-c6Eu-SxMMtv",
        "outputId": "2b031a8e-3478-4b0a-8d8a-b0b149da461d"
      },
      "execution_count": 4,
      "outputs": [
        {
          "output_type": "stream",
          "name": "stdout",
          "text": [
            "/content/drive/MyDrive/RMSE_prep/MDD\n"
          ]
        }
      ]
    },
    {
      "cell_type": "code",
      "source": [
        "ls"
      ],
      "metadata": {
        "colab": {
          "base_uri": "https://localhost:8080/"
        },
        "id": "ejBB8Z7Iie8S",
        "outputId": "75c92db9-f875-455c-cbfd-b3fc59488b8e"
      },
      "execution_count": 5,
      "outputs": [
        {
          "output_type": "stream",
          "name": "stdout",
          "text": [
            "GAMMA_flat_vh.csv   GRD_flat_vv.csv   GTC_steep_vh.csv   ISCE_steep_vv.csv\n",
            "GAMMA_flat_vv.csv   GRD_steep_vh.csv  GTC_steep_vv.csv   SNAP_flat_vh.csv\n",
            "GAMMA_steep_vh.csv  GRD_steep_vv.csv  ISCE_flat_vh.csv   SNAP_flat_vv.csv\n",
            "GAMMA_steep_vv.csv  GTC_flat_vh.csv   ISCE_flat_vv.csv   SNAP_steep_vh.csv\n",
            "GRD_flat_vh.csv     GTC_flat_vv.csv   ISCE_steep_vh.csv  SNAP_steep_vv.csv\n"
          ]
        }
      ]
    },
    {
      "cell_type": "markdown",
      "source": [
        "Read in data"
      ],
      "metadata": {
        "id": "zkFJ9P3ukBH8"
      }
    },
    {
      "cell_type": "code",
      "source": [
        "truth = pd.read_csv(\"GAMMA_flat_vh.csv\") # 'truth', always gamma\n",
        "#truth = pd.read_csv(\"GAMMA_flat_vv.csv\")\n",
        "#truth = pd.read_csv(\"GAMMA_steep_vh.csv\")\n",
        "#truth = pd.read_csv(\"GAMMA_steep_vv.csv\")\n",
        "\n",
        "#Swap the predicted values\n",
        "\n",
        "pred = pd.read_csv(\"GRD_flat_vh.csv\") # 'predicted'\n",
        "#pred = pd.read_csv(\"GRD_flat_vv.csv\") \n",
        "#pred = pd.read_csv(\"GRD_steep_vh.csv\")\n",
        "#pred = pd.read_csv(\"GRD_steep_vv.csv\")\n",
        "\n",
        "#pred = pd.read_csv(\"GTC_flat_vh.csv\") # 'predicted'\n",
        "#pred = pd.read_csv(\"GTC_flat_vv.csv\") \n",
        "#pred = pd.read_csv(\"GTC_steep_vh.csv\")\n",
        "#pred = pd.read_csv(\"GTC_steep_vv.csv\")\n",
        "\n",
        "#pred = pd.read_csv(\"SNAP_flat_vh.csv\") # 'predicted'\n",
        "#pred = pd.read_csv(\"SNAP_flat_vv.csv\") \n",
        "#pred = pd.read_csv(\"SNAP_steep_vh.csv\")\n",
        "#pred = pd.read_csv(\"SNAP_steep_vv.csv\")\n",
        "\n",
        "#pred = pd.read_csv(\"ISCE_flat_vh.csv\") # 'predicted'\n",
        "#pred = pd.read_csv(\"ISCE_flat_vv.csv\") \n",
        "#pred = pd.read_csv(\"ISCE_steep_vh.csv\")\n",
        "#pred = pd.read_csv(\"ISCE_steep_vv.csv\")\n",
        "\n",
        "#set \"Date\" column to be the date type in pandas, and put in a new column\n",
        "truth['start_date'] = pd.to_datetime(truth['Date'])\n",
        "truth['start_date'] = truth['start_date'].apply(lambda t: t.replace(second=0, minute=0, hour=0)) #remove seconds bc these won't match (Gamma & ISCE products won't have)\n",
        "pred['start_date'] = pd.to_datetime(pred['Date'])\n",
        "pred['start_date'] = pred['start_date'].apply(lambda t: t.replace(second=0, minute=0, hour=0)) #remove seconds bc these won't match (Gamma & ISCE products won't have)\n",
        "\n",
        "#check for NaN values that may cause issues later.\n",
        "print(truth['.geo'].isnull().values.any())\n",
        "print(truth['start_date'].isnull().values.any())\n",
        "print(pred['.geo'].isnull().values.any())\n",
        "print(pred['start_date'].isnull().values.any())\n",
        "\n",
        "#.geo and start_date columns tog should create a unique identifier for each data point (point location with mean from one day)\n",
        "truth[\"new_index\"] = truth[\"start_date\"].map(str) + truth[\".geo\"].map(str)\n",
        "pred[\"new_index\"] = pred[\"start_date\"].map(str) + pred[\".geo\"].map(str)\n",
        "\n",
        "truth = truth.set_index(\"new_index\")\n",
        "pred = pred.set_index(\"new_index\")\n",
        "\n",
        "#combined dataframe\n",
        "combo = truth.join(pred, lsuffix='_truth', rsuffix='_pred')\n",
        "combo = combo[['mean_truth', 'mean_pred']]\n",
        "print(combo) #235308 rows x 2 columns\n",
        "combo.isnull().values.any() #yes null values\n",
        "combo = combo.dropna()\n",
        "print(combo.isnull().values.any()) #no null values\n",
        "\n",
        "# Calculation of RMSE\n",
        "RMSE = math.sqrt(mean_squared_error(combo['mean_truth'], combo['mean_pred'])) \n",
        "print (\"Gamma to [product]: RMSE (pw) \", RMSE)\n",
        "\n",
        "#Convert power to db: dB= 10* log (DN).\n",
        "x = math.log(RMSE)\n",
        "y = x*10\n",
        "print(\"RMSE (dB)\", y)"
      ],
      "metadata": {
        "colab": {
          "base_uri": "https://localhost:8080/"
        },
        "id": "QdyFG8r7e3J7",
        "outputId": "75d9f034-290e-4dcd-d569-97807dfa2b21"
      },
      "execution_count": 8,
      "outputs": [
        {
          "output_type": "stream",
          "name": "stdout",
          "text": [
            "False\n",
            "False\n",
            "False\n",
            "False\n",
            "                                                    mean_truth  mean_pred\n",
            "new_index                                                                \n",
            "2019-01-03 00:00:00{\"type\":\"Point\",\"coordinates...    0.071179   0.054357\n",
            "2019-01-03 00:00:00{\"type\":\"Point\",\"coordinates...    0.028681   0.034991\n",
            "2019-01-03 00:00:00{\"type\":\"Point\",\"coordinates...    0.022998   0.009058\n",
            "2019-01-03 00:00:00{\"type\":\"Point\",\"coordinates...    0.039465   0.037571\n",
            "2019-01-03 00:00:00{\"type\":\"Point\",\"coordinates...    0.032239   0.016783\n",
            "...                                                        ...        ...\n",
            "2019-12-30 00:00:00{\"type\":\"Point\",\"coordinates...    0.064312   0.049195\n",
            "2019-12-30 00:00:00{\"type\":\"Point\",\"coordinates...    0.012886   0.023333\n",
            "2019-12-30 00:00:00{\"type\":\"Point\",\"coordinates...    0.057280   0.290072\n",
            "2019-12-30 00:00:00{\"type\":\"Point\",\"coordinates...    0.025822   0.026628\n",
            "2019-12-30 00:00:00{\"type\":\"Point\",\"coordinates...    0.089034   0.075641\n",
            "\n",
            "[235308 rows x 2 columns]\n",
            "False\n",
            "Gamma to [product]: RMSE (pw)  0.09014489270020186\n",
            "RMSE (dB) -24.06336984290952\n"
          ]
        }
      ]
    }
  ]
}