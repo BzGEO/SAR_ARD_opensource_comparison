{
  "nbformat": 4,
  "nbformat_minor": 0,
  "metadata": {
    "colab": {
      "provenance": [],
      "authorship_tag": "ABX9TyOGS31w6HVKp2GE3fgfLBYb",
      "include_colab_link": true
    },
    "kernelspec": {
      "name": "python3",
      "display_name": "Python 3"
    },
    "language_info": {
      "name": "python"
    }
  },
  "cells": [
    {
      "cell_type": "markdown",
      "metadata": {
        "id": "view-in-github",
        "colab_type": "text"
      },
      "source": [
        "<a href=\"https://colab.research.google.com/github/hbparache/SAR_ARD_opensource_comparison/blob/main/RMSE_NP_short.ipynb\" target=\"_parent\"><img src=\"https://colab.research.google.com/assets/colab-badge.svg\" alt=\"Open In Colab\"/></a>"
      ]
    },
    {
      "cell_type": "code",
      "source": [
        "import pandas as pd\n",
        "import math\n",
        "import numpy as np\n",
        "from scipy.stats import pearsonr\n",
        "from sklearn.metrics import mean_squared_error "
      ],
      "metadata": {
        "id": "bGOnZr0nM1zt"
      },
      "execution_count": null,
      "outputs": []
    },
    {
      "cell_type": "code",
      "source": [
        "# Connecting to Google Drive\n",
        "from google.colab import drive\n",
        "drive.mount ('/content/drive/', force_remount=True)"
      ],
      "metadata": {
        "colab": {
          "base_uri": "https://localhost:8080/"
        },
        "id": "Hbigc7VAL_3N",
        "outputId": "ac2bdb91-18a4-4d33-f055-04e2b457d70f"
      },
      "execution_count": null,
      "outputs": [
        {
          "output_type": "stream",
          "name": "stdout",
          "text": [
            "Mounted at /content/drive/\n"
          ]
        }
      ]
    },
    {
      "cell_type": "code",
      "source": [
        "ls"
      ],
      "metadata": {
        "colab": {
          "base_uri": "https://localhost:8080/"
        },
        "id": "y-3sah6dMIu1",
        "outputId": "f2452790-492f-41ba-85e5-7804b92182cb"
      },
      "execution_count": null,
      "outputs": [
        {
          "output_type": "stream",
          "name": "stdout",
          "text": [
            "\u001b[0m\u001b[01;34mdrive\u001b[0m/  \u001b[01;34msample_data\u001b[0m/\n"
          ]
        }
      ]
    },
    {
      "cell_type": "code",
      "source": [
        "cd /content/drive/MyDrive/RMSE_prep/NP"
      ],
      "metadata": {
        "colab": {
          "base_uri": "https://localhost:8080/"
        },
        "id": "-c6Eu-SxMMtv",
        "outputId": "b475adc0-8df8-4d76-c657-651eb9c84d4d"
      },
      "execution_count": null,
      "outputs": [
        {
          "output_type": "stream",
          "name": "stdout",
          "text": [
            "/content/drive/MyDrive/RMSE_prep/NP\n"
          ]
        }
      ]
    },
    {
      "cell_type": "code",
      "source": [
        "ls"
      ],
      "metadata": {
        "colab": {
          "base_uri": "https://localhost:8080/"
        },
        "id": "ejBB8Z7Iie8S",
        "outputId": "43ad3fa3-74bc-499e-e4a7-00c1cf387b4e"
      },
      "execution_count": null,
      "outputs": [
        {
          "output_type": "stream",
          "name": "stdout",
          "text": [
            "GAMMA_flat_vh.csv  GAMMA_steep_vh.csv  GTC_flat_vh.csv  GTC_steep_vh.csv\n",
            "GAMMA_flat_vv.csv  GAMMA_steep_vv.csv  GTC_flat_vv.csv  GTC_steep_vv.csv\n"
          ]
        }
      ]
    },
    {
      "cell_type": "markdown",
      "source": [
        "Read in data"
      ],
      "metadata": {
        "id": "zkFJ9P3ukBH8"
      }
    },
    {
      "cell_type": "code",
      "source": [
        "#truth = pd.read_csv(\"GAMMA_flat_vh.csv\") # 'truth', always gamma\n",
        "#truth = pd.read_csv(\"GAMMA_flat_vv.csv\")\n",
        "truth = pd.read_csv(\"GAMMA_steep_vh.csv\")\n",
        "#truth = pd.read_csv(\"GAMMA_steep_vv.csv\")\n",
        "\n",
        "#Swap the predicted values\n",
        "\n",
        "#pred = pd.read_csv(\"GRD_flat_vh.csv\") # 'predicted'\n",
        "#pred = pd.read_csv(\"GRD_flat_vv.csv\") \n",
        "#pred = pd.read_csv(\"GRD_steep_vh.csv\")\n",
        "#pred = pd.read_csv(\"GRD_steep_vv.csv\")\n",
        "\n",
        "#pred = pd.read_csv(\"GTC_flat_vh.csv\") # 'predicted'\n",
        "#pred = pd.read_csv(\"GTC_flat_vv.csv\") \n",
        "pred = pd.read_csv(\"GTC_steep_vh.csv\")\n",
        "#pred = pd.read_csv(\"GTC_steep_vv.csv\")\n",
        "\n",
        "#pred = pd.read_csv(\"SNAP_flat_vh.csv\") # 'predicted'\n",
        "#pred = pd.read_csv(\"SNAP_flat_vv.csv\") \n",
        "#pred = pd.read_csv(\"SNAP_steep_vh.csv\")\n",
        "#pred = pd.read_csv(\"SNAP_steep_vv.csv\")\n",
        "\n",
        "#pred = pd.read_csv(\"ISCE_flat_vh.csv\") # 'predicted'\n",
        "#pred = pd.read_csv(\"ISCE_flat_vv.csv\") \n",
        "#pred = pd.read_csv(\"ISCE_steep_vh.csv\")\n",
        "#pred = pd.read_csv(\"ISCE_steep_vv.csv\")\n",
        "\n",
        "#get basic stats\n",
        "print(truth['mean'].describe())\n",
        "print(pred['mean'].describe())\n",
        "\n",
        "#set \"Date\" column to be the date type in pandas, and put in a new column\n",
        "truth['start_date'] = pd.to_datetime(truth['Date'])\n",
        "truth['start_date'] = truth['start_date'].apply(lambda t: t.replace(second=0, minute=0, hour=0)) #remove seconds bc these won't match (Gamma & ISCE products won't have)\n",
        "pred['start_date'] = pd.to_datetime(pred['Date'])\n",
        "pred['start_date'] = pred['start_date'].apply(lambda t: t.replace(second=0, minute=0, hour=0)) #remove seconds bc these won't match (Gamma & ISCE products won't have)\n",
        "\n",
        "#check for NaN values that may cause issues later.\n",
        "print(truth['.geo'].isnull().values.any())\n",
        "print(truth['start_date'].isnull().values.any())\n",
        "print(pred['.geo'].isnull().values.any())\n",
        "print(pred['start_date'].isnull().values.any())\n",
        "\n",
        "#.geo and start_date columns tog should create a unique identifier for each data point (point location with mean from one day)\n",
        "truth[\"new_index\"] = truth[\"start_date\"].map(str) + truth[\".geo\"].map(str)\n",
        "pred[\"new_index\"] = pred[\"start_date\"].map(str) + pred[\".geo\"].map(str)\n",
        "\n",
        "truth = truth.set_index(\"new_index\")\n",
        "pred = pred.set_index(\"new_index\")\n",
        "\n",
        "#combined dataframe\n",
        "combo = truth.join(pred, lsuffix='_truth', rsuffix='_pred')\n",
        "combo = combo[['mean_truth', 'mean_pred']]\n",
        "print(combo) #235308 rows x 2 columns\n",
        "combo.isnull().values.any() #yes null values\n",
        "combo = combo.dropna()\n",
        "print(combo.isnull().values.any()) #no null values\n",
        "\n",
        "# Calculation of RMSE\n",
        "RMSE = math.sqrt(mean_squared_error(combo['mean_truth'], combo['mean_pred'])) \n",
        "print (\"Gamma to [product]: RMSE (pw) \", RMSE)\n",
        "\n",
        "#Convert power to db: dB= 10* log (DN).\n",
        "x = math.log(RMSE)\n",
        "y = x*10\n",
        "print(\"RMSE (dB)\", y)\n",
        "\n",
        "#pearsonr\n",
        "print(\"Pearson R\")\n",
        "r, p = pearsonr(combo['mean_truth'], combo['mean_pred'])\n",
        "print (r)\n",
        "print (p)"
      ],
      "metadata": {
        "colab": {
          "base_uri": "https://localhost:8080/"
        },
        "id": "QdyFG8r7e3J7",
        "outputId": "ba662521-6a31-4184-cac3-1c6c1eaec891"
      },
      "execution_count": null,
      "outputs": [
        {
          "output_type": "stream",
          "name": "stdout",
          "text": [
            "count    203539.000000\n",
            "mean          0.046663\n",
            "std           0.177801\n",
            "min         -21.325985\n",
            "25%           0.022416\n",
            "50%           0.037351\n",
            "75%           0.058515\n",
            "max          65.274452\n",
            "Name: mean, dtype: float64\n",
            "count     1.994060e+05\n",
            "mean      1.181815e-01\n",
            "std       2.168148e-01\n",
            "min      7.306579e-305\n",
            "25%       2.386229e-05\n",
            "50%       5.416247e-03\n",
            "75%       1.329139e-01\n",
            "max       3.276133e+00\n",
            "Name: mean, dtype: float64\n",
            "False\n",
            "False\n",
            "False\n",
            "False\n",
            "                                                    mean_truth  mean_pred\n",
            "new_index                                                                \n",
            "2019-02-11 00:00:00{\"type\":\"Point\",\"coordinates...    0.039265   0.037538\n",
            "2019-02-11 00:00:00{\"type\":\"Point\",\"coordinates...    0.010829   0.000004\n",
            "2019-02-11 00:00:00{\"type\":\"Point\",\"coordinates...    0.078052   0.000764\n",
            "2019-02-11 00:00:00{\"type\":\"Point\",\"coordinates...    0.039125   0.143289\n",
            "2019-02-11 00:00:00{\"type\":\"Point\",\"coordinates...    0.032997   0.026434\n",
            "...                                                        ...        ...\n",
            "2019-12-23 00:00:00{\"type\":\"Point\",\"coordinates...    0.133218   0.000098\n",
            "2019-12-23 00:00:00{\"type\":\"Point\",\"coordinates...    0.013029   0.312754\n",
            "2019-12-23 00:00:00{\"type\":\"Point\",\"coordinates...    0.053048   0.009723\n",
            "2019-12-23 00:00:00{\"type\":\"Point\",\"coordinates...    0.012324   0.045606\n",
            "2019-12-23 00:00:00{\"type\":\"Point\",\"coordinates...    0.049587   0.001077\n",
            "\n",
            "[203539 rows x 2 columns]\n",
            "False\n",
            "Gamma to [product]: RMSE (pw)  0.28100993506026556\n",
            "RMSE (dB) -12.693652541870486\n",
            "Pearson R\n",
            "0.0019852388936625505\n",
            "0.37665547169152247\n"
          ]
        }
      ]
    }
  ]
}
