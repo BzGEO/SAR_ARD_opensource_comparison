{
  "nbformat": 4,
  "nbformat_minor": 0,
  "metadata": {
    "colab": {
      "provenance": [],
      "include_colab_link": true
    },
    "kernelspec": {
      "name": "python3",
      "display_name": "Python 3"
    },
    "language_info": {
      "name": "python"
    }
  },
  "cells": [
    {
      "cell_type": "markdown",
      "metadata": {
        "id": "view-in-github",
        "colab_type": "text"
      },
      "source": [
        "<a href=\"https://colab.research.google.com/github/hbparache/SAR_ARD_opensource_comparison/blob/main/NP_Timeseries_C0V_Range.ipynb\" target=\"_parent\"><img src=\"https://colab.research.google.com/assets/colab-badge.svg\" alt=\"Open In Colab\"/></a>"
      ]
    },
    {
      "cell_type": "markdown",
      "source": [
        "#Objective\n",
        "Create final graphs of Coefficient of Variation on a monthly basis over 2019 for Nepal (MDD coming) based on land cover and slope."
      ],
      "metadata": {
        "id": "TbFf95iabgh0"
      }
    },
    {
      "cell_type": "markdown",
      "source": [
        "\n",
        "\n",
        "Last updated: 5/10/23"
      ],
      "metadata": {
        "id": "6xSA-FEEghCj"
      }
    },
    {
      "cell_type": "markdown",
      "source": [
        "#Set up\n",
        "\n",
        "\n",
        "1.   Import libraries\n",
        "2.   Connect to Google Drive\n",
        "3.   Navigate to data"
      ],
      "metadata": {
        "id": "L24fHMUebLDB"
      }
    },
    {
      "cell_type": "code",
      "execution_count": null,
      "metadata": {
        "id": "w9yEuB2iahzV"
      },
      "outputs": [],
      "source": [
        "import matplotlib.pyplot as plt\n",
        "import os\n",
        "import numpy as np\n",
        "import pandas as pd"
      ]
    },
    {
      "cell_type": "code",
      "source": [
        "# Connecting to Google Drive\n",
        "from google.colab import drive\n",
        "drive.mount ('/content/drive/', force_remount=True)"
      ],
      "metadata": {
        "colab": {
          "base_uri": "https://localhost:8080/"
        },
        "id": "w9L5_GUFbUru",
        "outputId": "0f216325-bd92-4ecc-da77-769140ee84c7"
      },
      "execution_count": null,
      "outputs": [
        {
          "output_type": "stream",
          "name": "stdout",
          "text": [
            "Mounted at /content/drive/\n"
          ]
        }
      ]
    },
    {
      "cell_type": "code",
      "source": [
        "ls"
      ],
      "metadata": {
        "colab": {
          "base_uri": "https://localhost:8080/"
        },
        "id": "8E-iwW427gi6",
        "outputId": "678f57dc-3210-4207-a70c-010b83eeb6cc"
      },
      "execution_count": null,
      "outputs": [
        {
          "output_type": "stream",
          "name": "stdout",
          "text": [
            "\u001b[0m\u001b[01;34mdrive\u001b[0m/  \u001b[01;34msample_data\u001b[0m/\n"
          ]
        }
      ]
    },
    {
      "cell_type": "code",
      "source": [
        "cd Time_Series_Analysis/"
      ],
      "metadata": {
        "id": "pjOlniCNgMdl",
        "colab": {
          "base_uri": "https://localhost:8080/"
        },
        "outputId": "19fd2f59-6917-41dd-e6a3-02f4a76a5ef9"
      },
      "execution_count": null,
      "outputs": [
        {
          "output_type": "stream",
          "name": "stdout",
          "text": [
            "[Errno 2] No such file or directory: 'Time_Series_Analysis/Data/'\n",
            "/content/drive/.shortcut-targets-by-id/1U8bNyDEWZGDmUUgameBbp4rPkg_gw48H/Time Series Analysis\n"
          ]
        }
      ]
    },
    {
      "cell_type": "code",
      "source": [
        "ls"
      ],
      "metadata": {
        "colab": {
          "base_uri": "https://localhost:8080/"
        },
        "id": "pTHGkhr_taWv",
        "outputId": "af07b491-f32d-4c7f-b88c-c9be7fe4a50c"
      },
      "execution_count": null,
      "outputs": [
        {
          "output_type": "stream",
          "name": "stdout",
          "text": [
            "\u001b[0m\u001b[01;34mData\u001b[0m/  \u001b[01;34mFigures\u001b[0m/  \u001b[01;34mScripts\u001b[0m/\n"
          ]
        }
      ]
    },
    {
      "cell_type": "code",
      "source": [
        "cd Data/"
      ],
      "metadata": {
        "colab": {
          "base_uri": "https://localhost:8080/"
        },
        "id": "6N8FiQrxgypI",
        "outputId": "f2a31add-233b-4c45-cb10-a69c628b717c"
      },
      "execution_count": null,
      "outputs": [
        {
          "output_type": "stream",
          "name": "stdout",
          "text": [
            "/content/drive/.shortcut-targets-by-id/1U8bNyDEWZGDmUUgameBbp4rPkg_gw48H/Time Series Analysis/Data\n"
          ]
        }
      ]
    },
    {
      "cell_type": "code",
      "source": [
        "ls"
      ],
      "metadata": {
        "colab": {
          "base_uri": "https://localhost:8080/"
        },
        "id": "JWkSy9eChvhB",
        "outputId": "7952e716-2d81-4e48-ac1e-13ab00c03cab"
      },
      "execution_count": null,
      "outputs": [
        {
          "output_type": "stream",
          "name": "stdout",
          "text": [
            "\u001b[0m\u001b[01;34mCoV\u001b[0m/\n"
          ]
        }
      ]
    },
    {
      "cell_type": "code",
      "source": [
        "cd CoV/"
      ],
      "metadata": {
        "colab": {
          "base_uri": "https://localhost:8080/"
        },
        "id": "PciDY1rbtdR4",
        "outputId": "182cf703-86fb-4b1a-970e-d6044fe341dd"
      },
      "execution_count": null,
      "outputs": [
        {
          "output_type": "stream",
          "name": "stdout",
          "text": [
            "/content/drive/.shortcut-targets-by-id/1U8bNyDEWZGDmUUgameBbp4rPkg_gw48H/Time Series Analysis/Data/CoV\n"
          ]
        }
      ]
    },
    {
      "cell_type": "code",
      "source": [
        "ls"
      ],
      "metadata": {
        "colab": {
          "base_uri": "https://localhost:8080/"
        },
        "id": "otrMeYHphziK",
        "outputId": "9aec0685-a422-4430-8d31-08bf3ec808cc"
      },
      "execution_count": null,
      "outputs": [
        {
          "output_type": "stream",
          "name": "stdout",
          "text": [
            "\u001b[0m\u001b[01;34mGAMMA\u001b[0m/  \u001b[01;34mGRD\u001b[0m/  \u001b[01;34mGTC\u001b[0m/  \u001b[01;34mISCE\u001b[0m/  \u001b[01;34mSNAP\u001b[0m/\n"
          ]
        }
      ]
    },
    {
      "cell_type": "markdown",
      "source": [
        "#Prep for Figures"
      ],
      "metadata": {
        "id": "QUcxqK7QcS_b"
      }
    },
    {
      "cell_type": "markdown",
      "source": [
        "##prep GRD"
      ],
      "metadata": {
        "id": "eeFGXLBacWFk"
      }
    },
    {
      "cell_type": "code",
      "source": [
        "df_GRD_evergreen_vv = pd.read_csv(\"GRD/VV/evergreen.csv\")\n",
        "df_GRD_evergreen_vv.columns =['month', 'CoV']\n",
        "\n",
        "df_GRD_grassland_vv = pd.read_csv(\"GRD/VV/grassland.csv\")\n",
        "df_GRD_grassland_vv.columns =['month', 'CoV']\n",
        "\n",
        "df_GRD_flat_vv = pd.read_csv(\"GRD/VV/flat.csv\")\n",
        "df_GRD_flat_vv.columns =['month', 'CoV']\n",
        "\n",
        "df_GRD_steep_vv = pd.read_csv(\"GRD/VV/steep.csv\")\n",
        "df_GRD_steep_vv.columns =['month', 'CoV']"
      ],
      "metadata": {
        "id": "GCU1PN9njeUR"
      },
      "execution_count": null,
      "outputs": []
    },
    {
      "cell_type": "code",
      "source": [
        "df_GRD_evergreen_vh = pd.read_csv(\"GRD/VH/evergreen.csv\")\n",
        "df_GRD_evergreen_vh.columns =['month', 'CoV']\n",
        "\n",
        "df_GRD_grassland_vh = pd.read_csv(\"GRD/VH/grassland.csv\")\n",
        "df_GRD_grassland_vh.columns =['month', 'CoV']\n",
        "\n",
        "df_GRD_flat_vh = pd.read_csv(\"GRD/VH/flat.csv\")\n",
        "df_GRD_flat_vh.columns =['month', 'CoV']\n",
        "\n",
        "df_GRD_steep_vh = pd.read_csv(\"GRD/VH/steep.csv\")\n",
        "df_GRD_steep_vh.columns =['month', 'CoV']"
      ],
      "metadata": {
        "id": "_4Wcm6yYiIOz"
      },
      "execution_count": null,
      "outputs": []
    },
    {
      "cell_type": "markdown",
      "source": [
        "##prep GTC"
      ],
      "metadata": {
        "id": "lgGTsa68ckt7"
      }
    },
    {
      "cell_type": "code",
      "source": [
        "df_GTC_evergreen_vv = pd.read_csv(\"GTC/VV/evergreen.csv\")\n",
        "df_GTC_evergreen_vv.columns =['month', 'CoV']\n",
        "\n",
        "df_GTC_grassland_vv = pd.read_csv(\"GTC/VV/grassland.csv\")\n",
        "df_GTC_grassland_vv.columns =['month', 'CoV']\n",
        "\n",
        "df_GTC_flat_vv = pd.read_csv(\"GTC/VV/flat.csv\")\n",
        "df_GTC_flat_vv.columns =['month', 'CoV']\n",
        "\n",
        "df_GTC_steep_vv = pd.read_csv(\"GTC/VV/steep.csv\")\n",
        "df_GTC_steep_vv.columns =['month', 'CoV']"
      ],
      "metadata": {
        "id": "lORnrmj5cf3x"
      },
      "execution_count": null,
      "outputs": []
    },
    {
      "cell_type": "code",
      "source": [
        "df_GTC_evergreen_vh = pd.read_csv(\"GTC/VH/evergreen.csv\")\n",
        "df_GTC_evergreen_vh.columns =['month', 'CoV']\n",
        "\n",
        "df_GTC_grassland_vh = pd.read_csv(\"GTC/VH/grassland.csv\")\n",
        "df_GTC_grassland_vh.columns =['month', 'CoV']\n",
        "\n",
        "df_GTC_flat_vh = pd.read_csv(\"GTC/VH/flat.csv\")\n",
        "df_GTC_flat_vh.columns =['month', 'CoV']\n",
        "\n",
        "df_GTC_steep_vh = pd.read_csv(\"GTC/VH/steep.csv\")\n",
        "df_GTC_steep_vh.columns =['month', 'CoV']"
      ],
      "metadata": {
        "id": "Rq_PaaHii9x0"
      },
      "execution_count": null,
      "outputs": []
    },
    {
      "cell_type": "markdown",
      "source": [
        "##prep SNAP"
      ],
      "metadata": {
        "id": "8UEV3Pndcwrr"
      }
    },
    {
      "cell_type": "code",
      "source": [
        "df_SNAP_evergreen_vv = pd.read_csv(\"SNAP/VV/evergreen.csv\")\n",
        "df_SNAP_evergreen_vv.columns =['month', 'CoV']\n",
        "\n",
        "df_SNAP_grassland_vv = pd.read_csv(\"SNAP/VV/grassland.csv\")\n",
        "df_SNAP_grassland_vv.columns =['month', 'CoV']\n",
        "\n",
        "df_SNAP_flat_vv = pd.read_csv(\"SNAP/VV/flat.csv\")\n",
        "df_SNAP_flat_vv.columns =['month', 'CoV']\n",
        "\n",
        "df_SNAP_steep_vv = pd.read_csv(\"SNAP/VV/steep.csv\")\n",
        "df_SNAP_steep_vv.columns =['month', 'CoV']"
      ],
      "metadata": {
        "id": "99NuMxF3cfy0"
      },
      "execution_count": null,
      "outputs": []
    },
    {
      "cell_type": "code",
      "source": [
        "df_SNAP_evergreen_vh = pd.read_csv(\"SNAP/VH/evergreen.csv\")\n",
        "df_SNAP_evergreen_vh.columns =['month', 'CoV']\n",
        "\n",
        "df_SNAP_grassland_vh = pd.read_csv(\"SNAP/VH/grassland.csv\")\n",
        "df_SNAP_grassland_vh.columns =['month', 'CoV']\n",
        "\n",
        "df_SNAP_flat_vh = pd.read_csv(\"SNAP/VH/flat.csv\")\n",
        "df_SNAP_flat_vh.columns =['month', 'CoV']\n",
        "\n",
        "df_SNAP_steep_vh = pd.read_csv(\"SNAP/VH/steep.csv\")\n",
        "df_SNAP_steep_vh.columns =['month', 'CoV']"
      ],
      "metadata": {
        "id": "qtJ8sHH7jcL2"
      },
      "execution_count": null,
      "outputs": []
    },
    {
      "cell_type": "markdown",
      "source": [
        "##prep ISCE"
      ],
      "metadata": {
        "id": "ufDtlYpfc0ne"
      }
    },
    {
      "cell_type": "code",
      "source": [
        "df_ISCE_evergreen_vv = pd.read_csv(\"ISCE/VV/evergreen.csv\")\n",
        "df_ISCE_evergreen_vv.columns =['month', 'CoV']\n",
        "\n",
        "df_ISCE_grassland_vv = pd.read_csv(\"ISCE/VV/grassland.csv\")\n",
        "df_ISCE_grassland_vv.columns =['month', 'CoV']\n",
        "\n",
        "df_ISCE_flat_vv = pd.read_csv(\"ISCE/VV/flat.csv\")\n",
        "df_ISCE_flat_vv.columns =['month', 'CoV']\n",
        "\n",
        "df_ISCE_steep_vv = pd.read_csv(\"ISCE/VV/steep.csv\")\n",
        "df_ISCE_steep_vv.columns =['month', 'CoV']"
      ],
      "metadata": {
        "id": "8CUcU5-KcfhW"
      },
      "execution_count": null,
      "outputs": []
    },
    {
      "cell_type": "code",
      "source": [
        "df_ISCE_evergreen_vh = pd.read_csv(\"ISCE/VH/evergreen.csv\")\n",
        "df_ISCE_evergreen_vh.columns =['month', 'CoV']\n",
        "\n",
        "df_ISCE_grassland_vh = pd.read_csv(\"ISCE/VH/grassland.csv\")\n",
        "df_ISCE_grassland_vh.columns =['month', 'CoV']\n",
        "\n",
        "df_ISCE_flat_vh = pd.read_csv(\"ISCE/VH/flat.csv\")\n",
        "df_ISCE_flat_vh.columns =['month', 'CoV']\n",
        "\n",
        "df_ISCE_steep_vh = pd.read_csv(\"ISCE/VH/steep.csv\")\n",
        "df_ISCE_steep_vh.columns =['month', 'CoV']"
      ],
      "metadata": {
        "id": "WafBAXY_j2bQ"
      },
      "execution_count": null,
      "outputs": []
    },
    {
      "cell_type": "markdown",
      "source": [
        "##prep GAMMA"
      ],
      "metadata": {
        "id": "Jcr-_yzpdQhD"
      }
    },
    {
      "cell_type": "code",
      "source": [
        "df_GAMMA_evergreen_vv = pd.read_csv(\"GAMMA/VV/evergreen.csv\")\n",
        "df_GAMMA_evergreen_vv.columns =['month', 'CoV']\n",
        "\n",
        "df_GAMMA_grassland_vv = pd.read_csv(\"GAMMA/VV/grassland.csv\")\n",
        "df_GAMMA_grassland_vv.columns =['month', 'CoV']\n",
        "\n",
        "df_GAMMA_flat_vv = pd.read_csv(\"GAMMA/VV/flat.csv\")\n",
        "df_GAMMA_flat_vv.columns =['month', 'CoV']\n",
        "\n",
        "df_GAMMA_steep_vv = pd.read_csv(\"GAMMA/VV/steep.csv\")\n",
        "df_GAMMA_steep_vv.columns =['month', 'CoV']"
      ],
      "metadata": {
        "id": "L38XuwgWcd9U"
      },
      "execution_count": null,
      "outputs": []
    },
    {
      "cell_type": "code",
      "source": [
        "df_GAMMA_evergreen_vh = pd.read_csv(\"GAMMA/VH/evergreen.csv\")\n",
        "df_GAMMA_evergreen_vh.columns =['month', 'CoV']\n",
        "\n",
        "df_GAMMA_grassland_vh = pd.read_csv(\"GAMMA/VH/grassland.csv\")\n",
        "df_GAMMA_grassland_vh.columns =['month', 'CoV']\n",
        "\n",
        "df_GAMMA_flat_vh = pd.read_csv(\"GAMMA/VH/flat.csv\")\n",
        "df_GAMMA_flat_vh.columns =['month', 'CoV']\n",
        "\n",
        "df_GAMMA_steep_vh = pd.read_csv(\"GAMMA/VH/steep.csv\")\n",
        "df_GAMMA_steep_vh.columns =['month', 'CoV']"
      ],
      "metadata": {
        "id": "TrO3gSR_kQOE"
      },
      "execution_count": null,
      "outputs": []
    },
    {
      "cell_type": "markdown",
      "source": [
        "##put it all tog in a graph"
      ],
      "metadata": {
        "id": "5zLhXytUdXHN"
      }
    },
    {
      "cell_type": "code",
      "source": [
        "print(df_GRD_evergreen_vv)\n",
        "print(df_GTC_evergreen_vv)\n",
        "print(df_SNAP_evergreen_vv)\n",
        "print(df_ISCE_evergreen_vv)\n",
        "print(df_GAMMA_evergreen_vv)"
      ],
      "metadata": {
        "id": "Wa_o6yIfdbz2",
        "colab": {
          "base_uri": "https://localhost:8080/"
        },
        "outputId": "0c34c72d-414a-4aa2-8363-c80f03cf79e0"
      },
      "execution_count": null,
      "outputs": [
        {
          "output_type": "stream",
          "name": "stdout",
          "text": [
            "    month     CoV\n",
            "0       1  17.936\n",
            "1       2  18.086\n",
            "2       3  18.078\n",
            "3       4  17.772\n",
            "4       5  18.252\n",
            "5       6  17.842\n",
            "6       7  17.891\n",
            "7       8  18.181\n",
            "8       9  18.512\n",
            "9      10  18.135\n",
            "10     11  18.065\n",
            "11     12  17.921\n",
            "    month     CoV\n",
            "0       1  21.559\n",
            "1       2  17.649\n",
            "2       3  17.752\n",
            "3       4  24.999\n",
            "4       5  19.312\n",
            "5       6  32.326\n",
            "6       7  36.445\n",
            "7       8  28.913\n",
            "8       9  32.749\n",
            "9      10  18.134\n",
            "10     11  17.799\n",
            "11     12  20.949\n",
            "    month     CoV\n",
            "0       1  15.858\n",
            "1       2  15.698\n",
            "2       3  15.722\n",
            "3       4  15.681\n",
            "4       5  16.210\n",
            "5       6  16.165\n",
            "6       7  16.197\n",
            "7       8  16.549\n",
            "8       9  16.356\n",
            "9      10  15.473\n",
            "10     11  15.841\n",
            "11     12  15.592\n",
            "    month     CoV\n",
            "0       1  17.681\n",
            "1       2  17.965\n",
            "2       3  17.760\n",
            "3       4  17.810\n",
            "4       5  18.229\n",
            "5       6  18.002\n",
            "6       7  17.864\n",
            "7       8  17.726\n",
            "8       9  18.530\n",
            "9      10  17.971\n",
            "10     11  17.976\n",
            "11     12  17.642\n",
            "    month     CoV\n",
            "0       1  26.779\n",
            "1       2  17.075\n",
            "2       3  19.936\n",
            "3       4  17.994\n",
            "4       5  16.065\n",
            "5       6  24.247\n",
            "6       7  17.039\n",
            "7       8  18.054\n",
            "8       9  20.524\n",
            "9      10  15.954\n",
            "10     11  27.850\n",
            "11     12  15.882\n"
          ]
        }
      ]
    },
    {
      "cell_type": "code",
      "source": [
        "print(df_GRD_evergreen_vh)\n",
        "print(df_GTC_evergreen_vh)\n",
        "print(df_SNAP_evergreen_vh)\n",
        "print(df_ISCE_evergreen_vh)\n",
        "print(df_GAMMA_evergreen_vh)"
      ],
      "metadata": {
        "colab": {
          "base_uri": "https://localhost:8080/"
        },
        "id": "aizGfLVmkknJ",
        "outputId": "6eedc2ef-9730-464a-9507-4f15bab31a2e"
      },
      "execution_count": null,
      "outputs": [
        {
          "output_type": "stream",
          "name": "stdout",
          "text": [
            "    month     CoV\n",
            "0       1  17.979\n",
            "1       2  17.875\n",
            "2       3  17.784\n",
            "3       4  17.639\n",
            "4       5  17.847\n",
            "5       6  17.571\n",
            "6       7  18.065\n",
            "7       8  18.084\n",
            "8       9  18.020\n",
            "9      10  17.822\n",
            "10     11  17.840\n",
            "11     12  17.839\n",
            "    month     CoV\n",
            "0       1  18.371\n",
            "1       2  18.418\n",
            "2       3  18.302\n",
            "3       4  17.816\n",
            "4       5  18.306\n",
            "5       6  18.195\n",
            "6       7  18.090\n",
            "7       8  18.195\n",
            "8       9  18.254\n",
            "9      10  18.328\n",
            "10     11  18.371\n",
            "11     12  18.451\n",
            "    month     CoV\n",
            "0       1  15.637\n",
            "1       2  15.808\n",
            "2       3  15.544\n",
            "3       4  15.584\n",
            "4       5  15.435\n",
            "5       6  15.304\n",
            "6       7  15.942\n",
            "7       8  15.733\n",
            "8       9  16.006\n",
            "9      10  15.895\n",
            "10     11  15.879\n",
            "11     12  15.496\n",
            "    month     CoV\n",
            "0       1  17.587\n",
            "1       2  17.585\n",
            "2       3  17.186\n",
            "3       4  17.393\n",
            "4       5  17.859\n",
            "5       6  17.668\n",
            "6       7  17.659\n",
            "7       8  17.674\n",
            "8       9  17.484\n",
            "9      10  17.071\n",
            "10     11  17.555\n",
            "11     12  17.349\n",
            "    month     CoV\n",
            "0       1  24.609\n",
            "1       2  18.014\n",
            "2       3  19.554\n",
            "3       4  17.167\n",
            "4       5  17.178\n",
            "5       6  22.757\n",
            "6       7  23.602\n",
            "7       8  17.083\n",
            "8       9  19.085\n",
            "9      10  16.691\n",
            "10     11  25.219\n",
            "11     12  16.242\n"
          ]
        }
      ]
    },
    {
      "cell_type": "code",
      "source": [],
      "metadata": {
        "id": "6ILAf3twkreu"
      },
      "execution_count": null,
      "outputs": []
    },
    {
      "cell_type": "markdown",
      "source": [
        "#Range of Differences"
      ],
      "metadata": {
        "id": "ZTxgExkVjBnd"
      }
    },
    {
      "cell_type": "markdown",
      "source": [
        "VV & VH"
      ],
      "metadata": {
        "id": "OaXREtUkjNYp"
      }
    },
    {
      "cell_type": "markdown",
      "source": [
        "VH"
      ],
      "metadata": {
        "id": "_vRbfBbNHceO"
      }
    },
    {
      "cell_type": "code",
      "source": [
        "print(\"GRD - GAMMA\")\n",
        "print(df_GRD_evergreen_vh.subtract(df_GAMMA_evergreen_vh).describe())\n",
        "print(\"GTC - GAMMA\")\n",
        "print(df_GTC_evergreen_vh.subtract(df_GAMMA_evergreen_vh).describe())\n",
        "print(\"SNAP - GAMMA\")\n",
        "print(df_SNAP_evergreen_vh.subtract(df_GAMMA_evergreen_vh).describe())\n",
        "print(\"ISCE - GAMMA\")\n",
        "print(df_ISCE_evergreen_vh.subtract(df_GAMMA_evergreen_vh).describe())"
      ],
      "metadata": {
        "colab": {
          "base_uri": "https://localhost:8080/"
        },
        "id": "5PKNK2_BHcA4",
        "outputId": "f2905646-3e8e-41a5-9b65-90c2f606c37d"
      },
      "execution_count": null,
      "outputs": [
        {
          "output_type": "stream",
          "name": "stdout",
          "text": [
            "GRD - GAMMA\n",
            "       month        CoV\n",
            "count   12.0  12.000000\n",
            "mean     0.0   2.715833\n",
            "std      0.0   0.150533\n",
            "min      0.0   2.560000\n",
            "25%      0.0   2.626000\n",
            "50%      0.0   2.682500\n",
            "75%      0.0   2.773000\n",
            "max      0.0   3.117000\n",
            "GTC - GAMMA\n",
            "       month        CoV\n",
            "count   12.0  12.000000\n",
            "mean     0.0   4.822833\n",
            "std      0.0   0.274631\n",
            "min      0.0   4.580000\n",
            "25%      0.0   4.619000\n",
            "50%      0.0   4.777000\n",
            "75%      0.0   4.933500\n",
            "max      0.0   5.543000\n",
            "SNAP - GAMMA\n",
            "       month        CoV\n",
            "count   12.0  12.000000\n",
            "mean     0.0  -0.357583\n",
            "std      0.0   0.123948\n",
            "min      0.0  -0.560000\n",
            "25%      0.0  -0.420250\n",
            "50%      0.0  -0.348500\n",
            "75%      0.0  -0.287750\n",
            "max      0.0  -0.149000\n",
            "ISCE - GAMMA\n",
            "       month        CoV\n",
            "count   12.0  12.000000\n",
            "mean     0.0   1.927000\n",
            "std      0.0   0.337573\n",
            "min      0.0   1.468000\n",
            "25%      0.0   1.698000\n",
            "50%      0.0   1.838000\n",
            "75%      0.0   2.227000\n",
            "max      0.0   2.414000\n"
          ]
        }
      ]
    },
    {
      "cell_type": "markdown",
      "source": [
        "VH"
      ],
      "metadata": {
        "id": "HqiL-Th9aJnH"
      }
    },
    {
      "cell_type": "code",
      "source": [
        "print(\"GRD - GAMMA\")\n",
        "print(df_GRD_evergreen_vh.subtract(df_GAMMA_evergreen_vh).describe())\n",
        "print(\"GTC - GAMMA\")\n",
        "print(df_GTC_evergreen_vh.subtract(df_GAMMA_evergreen_vh).describe())\n",
        "print(\"SNAP - GAMMA\")\n",
        "print(df_SNAP_evergreen_vh.subtract(df_GAMMA_evergreen_vh).describe())\n",
        "print(\"ISCE - GAMMA\")\n",
        "print(df_ISCE_evergreen_vh.subtract(df_GAMMA_evergreen_vh).describe())"
      ],
      "metadata": {
        "colab": {
          "base_uri": "https://localhost:8080/"
        },
        "outputId": "f2905646-3e8e-41a5-9b65-90c2f606c37d",
        "id": "FDAHzPijaJnI"
      },
      "execution_count": null,
      "outputs": [
        {
          "output_type": "stream",
          "name": "stdout",
          "text": [
            "GRD - GAMMA\n",
            "       month        CoV\n",
            "count   12.0  12.000000\n",
            "mean     0.0   2.715833\n",
            "std      0.0   0.150533\n",
            "min      0.0   2.560000\n",
            "25%      0.0   2.626000\n",
            "50%      0.0   2.682500\n",
            "75%      0.0   2.773000\n",
            "max      0.0   3.117000\n",
            "GTC - GAMMA\n",
            "       month        CoV\n",
            "count   12.0  12.000000\n",
            "mean     0.0   4.822833\n",
            "std      0.0   0.274631\n",
            "min      0.0   4.580000\n",
            "25%      0.0   4.619000\n",
            "50%      0.0   4.777000\n",
            "75%      0.0   4.933500\n",
            "max      0.0   5.543000\n",
            "SNAP - GAMMA\n",
            "       month        CoV\n",
            "count   12.0  12.000000\n",
            "mean     0.0  -0.357583\n",
            "std      0.0   0.123948\n",
            "min      0.0  -0.560000\n",
            "25%      0.0  -0.420250\n",
            "50%      0.0  -0.348500\n",
            "75%      0.0  -0.287750\n",
            "max      0.0  -0.149000\n",
            "ISCE - GAMMA\n",
            "       month        CoV\n",
            "count   12.0  12.000000\n",
            "mean     0.0   1.927000\n",
            "std      0.0   0.337573\n",
            "min      0.0   1.468000\n",
            "25%      0.0   1.698000\n",
            "50%      0.0   1.838000\n",
            "75%      0.0   2.227000\n",
            "max      0.0   2.414000\n"
          ]
        }
      ]
    },
    {
      "cell_type": "markdown",
      "source": [
        "VH"
      ],
      "metadata": {
        "id": "ZU3xc7IwaMtK"
      }
    },
    {
      "cell_type": "code",
      "source": [
        "print(\"GRD - GAMMA\")\n",
        "print(df_GRD_evergreen_vh.subtract(df_GAMMA_evergreen_vh).describe())\n",
        "print(\"GTC - GAMMA\")\n",
        "print(df_GTC_evergreen_vh.subtract(df_GAMMA_evergreen_vh).describe())\n",
        "print(\"SNAP - GAMMA\")\n",
        "print(df_SNAP_evergreen_vh.subtract(df_GAMMA_evergreen_vh).describe())\n",
        "print(\"ISCE - GAMMA\")\n",
        "print(df_ISCE_evergreen_vh.subtract(df_GAMMA_evergreen_vh).describe())"
      ],
      "metadata": {
        "colab": {
          "base_uri": "https://localhost:8080/"
        },
        "outputId": "f2905646-3e8e-41a5-9b65-90c2f606c37d",
        "id": "TEuewbTvaMtM"
      },
      "execution_count": null,
      "outputs": [
        {
          "output_type": "stream",
          "name": "stdout",
          "text": [
            "GRD - GAMMA\n",
            "       month        CoV\n",
            "count   12.0  12.000000\n",
            "mean     0.0   2.715833\n",
            "std      0.0   0.150533\n",
            "min      0.0   2.560000\n",
            "25%      0.0   2.626000\n",
            "50%      0.0   2.682500\n",
            "75%      0.0   2.773000\n",
            "max      0.0   3.117000\n",
            "GTC - GAMMA\n",
            "       month        CoV\n",
            "count   12.0  12.000000\n",
            "mean     0.0   4.822833\n",
            "std      0.0   0.274631\n",
            "min      0.0   4.580000\n",
            "25%      0.0   4.619000\n",
            "50%      0.0   4.777000\n",
            "75%      0.0   4.933500\n",
            "max      0.0   5.543000\n",
            "SNAP - GAMMA\n",
            "       month        CoV\n",
            "count   12.0  12.000000\n",
            "mean     0.0  -0.357583\n",
            "std      0.0   0.123948\n",
            "min      0.0  -0.560000\n",
            "25%      0.0  -0.420250\n",
            "50%      0.0  -0.348500\n",
            "75%      0.0  -0.287750\n",
            "max      0.0  -0.149000\n",
            "ISCE - GAMMA\n",
            "       month        CoV\n",
            "count   12.0  12.000000\n",
            "mean     0.0   1.927000\n",
            "std      0.0   0.337573\n",
            "min      0.0   1.468000\n",
            "25%      0.0   1.698000\n",
            "50%      0.0   1.838000\n",
            "75%      0.0   2.227000\n",
            "max      0.0   2.414000\n"
          ]
        }
      ]
    },
    {
      "cell_type": "markdown",
      "source": [
        "VH"
      ],
      "metadata": {
        "id": "_8qmmy4kaOE3"
      }
    },
    {
      "cell_type": "code",
      "source": [
        "print(\"GRD - GAMMA\")\n",
        "print(df_GRD_evergreen_vh.subtract(df_GAMMA_evergreen_vh).describe())\n",
        "print(\"GTC - GAMMA\")\n",
        "print(df_GTC_evergreen_vh.subtract(df_GAMMA_evergreen_vh).describe())\n",
        "print(\"SNAP - GAMMA\")\n",
        "print(df_SNAP_evergreen_vh.subtract(df_GAMMA_evergreen_vh).describe())\n",
        "print(\"ISCE - GAMMA\")\n",
        "print(df_ISCE_evergreen_vh.subtract(df_GAMMA_evergreen_vh).describe())"
      ],
      "metadata": {
        "colab": {
          "base_uri": "https://localhost:8080/"
        },
        "outputId": "f2905646-3e8e-41a5-9b65-90c2f606c37d",
        "id": "1Y176RTTaOE4"
      },
      "execution_count": null,
      "outputs": [
        {
          "output_type": "stream",
          "name": "stdout",
          "text": [
            "GRD - GAMMA\n",
            "       month        CoV\n",
            "count   12.0  12.000000\n",
            "mean     0.0   2.715833\n",
            "std      0.0   0.150533\n",
            "min      0.0   2.560000\n",
            "25%      0.0   2.626000\n",
            "50%      0.0   2.682500\n",
            "75%      0.0   2.773000\n",
            "max      0.0   3.117000\n",
            "GTC - GAMMA\n",
            "       month        CoV\n",
            "count   12.0  12.000000\n",
            "mean     0.0   4.822833\n",
            "std      0.0   0.274631\n",
            "min      0.0   4.580000\n",
            "25%      0.0   4.619000\n",
            "50%      0.0   4.777000\n",
            "75%      0.0   4.933500\n",
            "max      0.0   5.543000\n",
            "SNAP - GAMMA\n",
            "       month        CoV\n",
            "count   12.0  12.000000\n",
            "mean     0.0  -0.357583\n",
            "std      0.0   0.123948\n",
            "min      0.0  -0.560000\n",
            "25%      0.0  -0.420250\n",
            "50%      0.0  -0.348500\n",
            "75%      0.0  -0.287750\n",
            "max      0.0  -0.149000\n",
            "ISCE - GAMMA\n",
            "       month        CoV\n",
            "count   12.0  12.000000\n",
            "mean     0.0   1.927000\n",
            "std      0.0   0.337573\n",
            "min      0.0   1.468000\n",
            "25%      0.0   1.698000\n",
            "50%      0.0   1.838000\n",
            "75%      0.0   2.227000\n",
            "max      0.0   2.414000\n"
          ]
        }
      ]
    }
  ]
}