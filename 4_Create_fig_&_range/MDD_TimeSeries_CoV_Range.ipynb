{
  "nbformat": 4,
  "nbformat_minor": 0,
  "metadata": {
    "colab": {
      "provenance": [],
      "include_colab_link": true
    },
    "kernelspec": {
      "name": "python3",
      "display_name": "Python 3"
    },
    "language_info": {
      "name": "python"
    }
  },
  "cells": [
    {
      "cell_type": "markdown",
      "metadata": {
        "id": "view-in-github",
        "colab_type": "text"
      },
      "source": [
        "<a href=\"https://colab.research.google.com/github/hbparache/SAR_ARD_opensource_comparison/blob/main/MDD_TimeSeries_CoV_Range.ipynb\" target=\"_parent\"><img src=\"https://colab.research.google.com/assets/colab-badge.svg\" alt=\"Open In Colab\"/></a>"
      ]
    },
    {
      "cell_type": "markdown",
      "source": [
        "#Objective\n",
        "Analyze differences in Coefficient of Variation on a monthly basis over 2019 by product for MDD  based on land cover and slope."
      ],
      "metadata": {
        "id": "TbFf95iabgh0"
      }
    },
    {
      "cell_type": "markdown",
      "source": [
        "Last updated: 05/07/23"
      ],
      "metadata": {
        "id": "6xSA-FEEghCj"
      }
    },
    {
      "cell_type": "markdown",
      "source": [
        "#Set up\n",
        "\n",
        "\n",
        "1.   Import libraries\n",
        "2.   Connect to Google Drive\n",
        "3.   Navigate to data"
      ],
      "metadata": {
        "id": "L24fHMUebLDB"
      }
    },
    {
      "cell_type": "code",
      "execution_count": 1,
      "metadata": {
        "id": "w9yEuB2iahzV"
      },
      "outputs": [],
      "source": [
        "import matplotlib.pyplot as plt\n",
        "import os\n",
        "import numpy as np\n",
        "import pandas as pd"
      ]
    },
    {
      "cell_type": "code",
      "source": [
        "# Connecting to Google Drive\n",
        "from google.colab import drive\n",
        "drive.mount ('/content/drive/', force_remount=True)"
      ],
      "metadata": {
        "colab": {
          "base_uri": "https://localhost:8080/"
        },
        "id": "w9L5_GUFbUru",
        "outputId": "99cb7f48-f676-4c06-b64d-029dcf7ddda3"
      },
      "execution_count": 2,
      "outputs": [
        {
          "output_type": "stream",
          "name": "stdout",
          "text": [
            "Mounted at /content/drive/\n"
          ]
        }
      ]
    },
    {
      "cell_type": "code",
      "source": [
        "ls"
      ],
      "metadata": {
        "colab": {
          "base_uri": "https://localhost:8080/"
        },
        "id": "8E-iwW427gi6",
        "outputId": "438cf83e-8b12-4f32-e061-575e0f46ca44"
      },
      "execution_count": 3,
      "outputs": [
        {
          "output_type": "stream",
          "name": "stdout",
          "text": [
            "\u001b[0m\u001b[01;34mdrive\u001b[0m/  \u001b[01;34msample_data\u001b[0m/\n"
          ]
        }
      ]
    },
    {
      "cell_type": "code",
      "source": [
        "cd drive/"
      ],
      "metadata": {
        "id": "pjOlniCNgMdl",
        "colab": {
          "base_uri": "https://localhost:8080/"
        },
        "outputId": "c3501572-b104-4776-b834-0c9a424fe77b"
      },
      "execution_count": 4,
      "outputs": [
        {
          "output_type": "stream",
          "name": "stdout",
          "text": [
            "/content/drive\n"
          ]
        }
      ]
    },
    {
      "cell_type": "code",
      "source": [
        "ls"
      ],
      "metadata": {
        "colab": {
          "base_uri": "https://localhost:8080/"
        },
        "id": "pTHGkhr_taWv",
        "outputId": "e69f5125-3f40-4448-c261-301927bb284b"
      },
      "execution_count": 5,
      "outputs": [
        {
          "output_type": "stream",
          "name": "stdout",
          "text": [
            "\u001b[0m\u001b[01;34mMyDrive\u001b[0m/\n"
          ]
        }
      ]
    },
    {
      "cell_type": "code",
      "source": [
        "cd MyDrive/Time_Series_Analysis/Data/CoV/MDD/"
      ],
      "metadata": {
        "colab": {
          "base_uri": "https://localhost:8080/"
        },
        "id": "bh-APnKpiMos",
        "outputId": "54f6b851-4c65-4de6-9f1a-4423c20d8308"
      },
      "execution_count": 6,
      "outputs": [
        {
          "output_type": "stream",
          "name": "stdout",
          "text": [
            "/content/drive/.shortcut-targets-by-id/1U8bNyDEWZGDmUUgameBbp4rPkg_gw48H/Time Series Analysis\n"
          ]
        }
      ]
    },
    {
      "cell_type": "code",
      "source": [
        "ls"
      ],
      "metadata": {
        "colab": {
          "base_uri": "https://localhost:8080/"
        },
        "id": "2Skc39TGmMzi",
        "outputId": "ef8c8f0a-af34-4fcd-d13b-c6e3bbb48bed"
      },
      "execution_count": 13,
      "outputs": [
        {
          "output_type": "stream",
          "name": "stdout",
          "text": [
            "\u001b[0m\u001b[01;34mGAMMA\u001b[0m/  \u001b[01;34mGRD\u001b[0m/  \u001b[01;34mGTC\u001b[0m/  \u001b[01;34mISCE\u001b[0m/  \u001b[01;34mSNAP\u001b[0m/\n"
          ]
        }
      ]
    },
    {
      "cell_type": "markdown",
      "source": [
        "#Prep for Figures"
      ],
      "metadata": {
        "id": "QUcxqK7QcS_b"
      }
    },
    {
      "cell_type": "markdown",
      "source": [
        "##prep GRD"
      ],
      "metadata": {
        "id": "eeFGXLBacWFk"
      }
    },
    {
      "cell_type": "code",
      "source": [
        "df_GRD_evergreen_vv = pd.read_csv(\"GRD/VV/evergreen.csv\")\n",
        "df_GRD_evergreen_vv.columns =['month', 'CoV']\n",
        "\n",
        "df_GRD_grassland_vv = pd.read_csv(\"GRD/VV/grassland.csv\")\n",
        "df_GRD_grassland_vv.columns =['month', 'CoV']\n",
        "\n",
        "df_GRD_flat_vv = pd.read_csv(\"GRD/VV/flat.csv\")\n",
        "df_GRD_flat_vv.columns =['month', 'CoV']\n",
        "\n",
        "df_GRD_steep_vv = pd.read_csv(\"GRD/VV/steep.csv\")\n",
        "df_GRD_steep_vv.columns =['month', 'CoV']"
      ],
      "metadata": {
        "id": "GCU1PN9njeUR"
      },
      "execution_count": 14,
      "outputs": []
    },
    {
      "cell_type": "code",
      "source": [
        "df_GRD_evergreen_vh = pd.read_csv(\"GRD/VH/evergreen.csv\")\n",
        "df_GRD_evergreen_vh.columns =['month', 'CoV']\n",
        "\n",
        "df_GRD_grassland_vh = pd.read_csv(\"GRD/VH/grassland.csv\")\n",
        "df_GRD_grassland_vh.columns =['month', 'CoV']\n",
        "\n",
        "df_GRD_flat_vh = pd.read_csv(\"GRD/VH/flat.csv\")\n",
        "df_GRD_flat_vh.columns =['month', 'CoV']\n",
        "\n",
        "df_GRD_steep_vh = pd.read_csv(\"GRD/VH/steep.csv\")\n",
        "df_GRD_steep_vh.columns =['month', 'CoV']"
      ],
      "metadata": {
        "id": "_4Wcm6yYiIOz"
      },
      "execution_count": 15,
      "outputs": []
    },
    {
      "cell_type": "markdown",
      "source": [
        "##prep GTC"
      ],
      "metadata": {
        "id": "lgGTsa68ckt7"
      }
    },
    {
      "cell_type": "code",
      "source": [
        "df_GTC_evergreen_vv = pd.read_csv(\"GTC/VV/evergreen.csv\")\n",
        "df_GTC_evergreen_vv.columns =['month', 'CoV']\n",
        "\n",
        "df_GTC_grassland_vv = pd.read_csv(\"GTC/VV/grassland.csv\")\n",
        "df_GTC_grassland_vv.columns =['month', 'CoV']\n",
        "\n",
        "df_GTC_flat_vv = pd.read_csv(\"GTC/VV/flat.csv\")\n",
        "df_GTC_flat_vv.columns =['month', 'CoV']\n",
        "\n",
        "df_GTC_steep_vv = pd.read_csv(\"GTC/VV/steep.csv\")\n",
        "df_GTC_steep_vv.columns =['month', 'CoV']"
      ],
      "metadata": {
        "id": "lORnrmj5cf3x"
      },
      "execution_count": 16,
      "outputs": []
    },
    {
      "cell_type": "code",
      "source": [
        "df_GTC_evergreen_vh = pd.read_csv(\"GTC/VH/evergreen.csv\")\n",
        "df_GTC_evergreen_vh.columns =['month', 'CoV']\n",
        "\n",
        "df_GTC_grassland_vh = pd.read_csv(\"GTC/VH/grassland.csv\")\n",
        "df_GTC_grassland_vh.columns =['month', 'CoV']\n",
        "\n",
        "df_GTC_flat_vh = pd.read_csv(\"GTC/VH/flat.csv\")\n",
        "df_GTC_flat_vh.columns =['month', 'CoV']\n",
        "\n",
        "df_GTC_steep_vh = pd.read_csv(\"GTC/VH/steep.csv\")\n",
        "df_GTC_steep_vh.columns =['month', 'CoV']"
      ],
      "metadata": {
        "id": "Rq_PaaHii9x0"
      },
      "execution_count": 17,
      "outputs": []
    },
    {
      "cell_type": "markdown",
      "source": [
        "##prep SNAP"
      ],
      "metadata": {
        "id": "8UEV3Pndcwrr"
      }
    },
    {
      "cell_type": "code",
      "source": [
        "df_SNAP_evergreen_vv = pd.read_csv(\"SNAP/VV/evergreen.csv\")\n",
        "df_SNAP_evergreen_vv.columns =['month', 'CoV']\n",
        "\n",
        "df_SNAP_grassland_vv = pd.read_csv(\"SNAP/VV/grassland.csv\")\n",
        "df_SNAP_grassland_vv.columns =['month', 'CoV']\n",
        "\n",
        "df_SNAP_flat_vv = pd.read_csv(\"SNAP/VV/flat.csv\")\n",
        "df_SNAP_flat_vv.columns =['month', 'CoV']\n",
        "\n",
        "df_SNAP_steep_vv = pd.read_csv(\"SNAP/VV/steep.csv\")\n",
        "df_SNAP_steep_vv.columns =['month', 'CoV']"
      ],
      "metadata": {
        "id": "99NuMxF3cfy0"
      },
      "execution_count": 18,
      "outputs": []
    },
    {
      "cell_type": "code",
      "source": [
        "df_SNAP_evergreen_vh = pd.read_csv(\"SNAP/VH/evergreen.csv\")\n",
        "df_SNAP_evergreen_vh.columns =['month', 'CoV']\n",
        "\n",
        "df_SNAP_grassland_vh = pd.read_csv(\"SNAP/VH/grassland.csv\")\n",
        "df_SNAP_grassland_vh.columns =['month', 'CoV']\n",
        "\n",
        "df_SNAP_flat_vh = pd.read_csv(\"SNAP/VH/flat.csv\")\n",
        "df_SNAP_flat_vh.columns =['month', 'CoV']\n",
        "\n",
        "df_SNAP_steep_vh = pd.read_csv(\"SNAP/VH/steep.csv\")\n",
        "df_SNAP_steep_vh.columns =['month', 'CoV']"
      ],
      "metadata": {
        "id": "qtJ8sHH7jcL2"
      },
      "execution_count": 19,
      "outputs": []
    },
    {
      "cell_type": "markdown",
      "source": [
        "##prep ISCE"
      ],
      "metadata": {
        "id": "ufDtlYpfc0ne"
      }
    },
    {
      "cell_type": "code",
      "source": [
        "df_ISCE_evergreen_vv = pd.read_csv(\"ISCE/VV/evergreen.csv\")\n",
        "df_ISCE_evergreen_vv.columns =['month', 'CoV']\n",
        "\n",
        "df_ISCE_grassland_vv = pd.read_csv(\"ISCE/VV/grassland.csv\")\n",
        "df_ISCE_grassland_vv.columns =['month', 'CoV']\n",
        "\n",
        "df_ISCE_flat_vv = pd.read_csv(\"ISCE/VV/flat.csv\")\n",
        "df_ISCE_flat_vv.columns =['month', 'CoV']\n",
        "\n",
        "df_ISCE_steep_vv = pd.read_csv(\"ISCE/VV/steep.csv\")\n",
        "df_ISCE_steep_vv.columns =['month', 'CoV']"
      ],
      "metadata": {
        "id": "8CUcU5-KcfhW"
      },
      "execution_count": 20,
      "outputs": []
    },
    {
      "cell_type": "code",
      "source": [
        "df_ISCE_evergreen_vh = pd.read_csv(\"ISCE/VH/evergreen.csv\")\n",
        "df_ISCE_evergreen_vh.columns =['month', 'CoV']\n",
        "\n",
        "df_ISCE_grassland_vh = pd.read_csv(\"ISCE/VH/grassland.csv\")\n",
        "df_ISCE_grassland_vh.columns =['month', 'CoV']\n",
        "\n",
        "df_ISCE_flat_vh = pd.read_csv(\"ISCE/VH/flat.csv\")\n",
        "df_ISCE_flat_vh.columns =['month', 'CoV']\n",
        "\n",
        "df_ISCE_steep_vh = pd.read_csv(\"ISCE/VH/steep.csv\")\n",
        "df_ISCE_steep_vh.columns =['month', 'CoV']"
      ],
      "metadata": {
        "id": "WafBAXY_j2bQ"
      },
      "execution_count": 21,
      "outputs": []
    },
    {
      "cell_type": "markdown",
      "source": [
        "##prep GAMMA"
      ],
      "metadata": {
        "id": "Jcr-_yzpdQhD"
      }
    },
    {
      "cell_type": "code",
      "source": [
        "df_GAMMA_evergreen_vv = pd.read_csv(\"GAMMA/VV/evergreen.csv\")\n",
        "df_GAMMA_evergreen_vv.columns =['month', 'CoV']\n",
        "\n",
        "df_GAMMA_grassland_vv = pd.read_csv(\"GAMMA/VV/grassland.csv\")\n",
        "df_GAMMA_grassland_vv.columns =['month', 'CoV']\n",
        "\n",
        "df_GAMMA_flat_vv = pd.read_csv(\"GAMMA/VV/flat.csv\")\n",
        "df_GAMMA_flat_vv.columns =['month', 'CoV']\n",
        "\n",
        "df_GAMMA_steep_vv = pd.read_csv(\"GAMMA/VV/steep.csv\")\n",
        "df_GAMMA_steep_vv.columns =['month', 'CoV']"
      ],
      "metadata": {
        "id": "L38XuwgWcd9U"
      },
      "execution_count": 22,
      "outputs": []
    },
    {
      "cell_type": "code",
      "source": [
        "df_GAMMA_evergreen_vh = pd.read_csv(\"GAMMA/VH/evergreen.csv\")\n",
        "df_GAMMA_evergreen_vh.columns =['month', 'CoV']\n",
        "\n",
        "df_GAMMA_grassland_vh = pd.read_csv(\"GAMMA/VH/grassland.csv\")\n",
        "df_GAMMA_grassland_vh.columns =['month', 'CoV']\n",
        "\n",
        "df_GAMMA_flat_vh = pd.read_csv(\"GAMMA/VH/flat.csv\")\n",
        "df_GAMMA_flat_vh.columns =['month', 'CoV']\n",
        "\n",
        "df_GAMMA_steep_vh = pd.read_csv(\"GAMMA/VH/steep.csv\")\n",
        "df_GAMMA_steep_vh.columns =['month', 'CoV']"
      ],
      "metadata": {
        "id": "TrO3gSR_kQOE"
      },
      "execution_count": 23,
      "outputs": []
    },
    {
      "cell_type": "markdown",
      "source": [
        "##put it all tog in a graph"
      ],
      "metadata": {
        "id": "5zLhXytUdXHN"
      }
    },
    {
      "cell_type": "code",
      "source": [
        "print(df_GRD_evergreen_vv)\n",
        "print(df_GTC_evergreen_vv)\n",
        "print(df_SNAP_evergreen_vv)\n",
        "print(df_ISCE_evergreen_vv)\n",
        "print(df_GAMMA_evergreen_vv)"
      ],
      "metadata": {
        "id": "Wa_o6yIfdbz2",
        "colab": {
          "base_uri": "https://localhost:8080/"
        },
        "outputId": "aa4a03b5-eb84-4564-be4b-c8dcce5c35aa"
      },
      "execution_count": 24,
      "outputs": [
        {
          "output_type": "stream",
          "name": "stdout",
          "text": [
            "    month     CoV\n",
            "0       1  18.920\n",
            "1       2  18.993\n",
            "2       3  18.975\n",
            "3       4  18.757\n",
            "4       5  18.998\n",
            "5       6  18.847\n",
            "6       7  19.120\n",
            "7       8  18.952\n",
            "8       9  18.785\n",
            "9      10  19.130\n",
            "10     11  18.989\n",
            "11     12  19.099\n",
            "    month     CoV\n",
            "0       1  19.139\n",
            "1       2  19.081\n",
            "2       3  38.473\n",
            "3       4  18.778\n",
            "4       5  38.473\n",
            "5       6  36.968\n",
            "6       7  35.648\n",
            "7       8  36.777\n",
            "8       9  36.968\n",
            "9      10  19.121\n",
            "10     11  36.968\n",
            "11     12  38.473\n",
            "    month     CoV\n",
            "0       1  15.765\n",
            "1       2  15.796\n",
            "2       3  15.837\n",
            "3       4  15.464\n",
            "4       5  16.063\n",
            "5       6  15.699\n",
            "6       7  16.046\n",
            "7       8  15.823\n",
            "8       9  15.241\n",
            "9      10  15.989\n",
            "10     11  15.619\n",
            "11     12  15.889\n",
            "    month     CoV\n",
            "0       1  17.822\n",
            "1       2  17.856\n",
            "2       3  18.983\n",
            "3       4  18.131\n",
            "4       5  18.694\n",
            "5       6  19.499\n",
            "6       7  18.626\n",
            "7       8  18.274\n",
            "8       9  18.276\n",
            "9      10  19.316\n",
            "10     11  19.102\n",
            "11     12  18.583\n",
            "    month     CoV\n",
            "0       1  16.019\n",
            "1       2  15.958\n",
            "2       3  16.068\n",
            "3       4  15.742\n",
            "4       5  16.280\n",
            "5       6  15.753\n",
            "6       7  16.251\n",
            "7       8  15.892\n",
            "8       9  15.298\n",
            "9      10  16.391\n",
            "10     11  15.903\n",
            "11     12  15.991\n"
          ]
        }
      ]
    },
    {
      "cell_type": "code",
      "source": [
        "print(df_GRD_evergreen_vh)\n",
        "print(df_GTC_evergreen_vh)\n",
        "print(df_SNAP_evergreen_vh)\n",
        "print(df_ISCE_evergreen_vh)\n",
        "print(df_GAMMA_evergreen_vh)"
      ],
      "metadata": {
        "colab": {
          "base_uri": "https://localhost:8080/"
        },
        "id": "aizGfLVmkknJ",
        "outputId": "f75cca47-f71c-4f5e-d50f-4e4dd257a902"
      },
      "execution_count": 25,
      "outputs": [
        {
          "output_type": "stream",
          "name": "stdout",
          "text": [
            "    month     CoV\n",
            "0       1  18.612\n",
            "1       2  18.853\n",
            "2       3  18.905\n",
            "3       4  18.613\n",
            "4       5  18.744\n",
            "5       6  18.475\n",
            "6       7  18.812\n",
            "7       8  18.520\n",
            "8       9  18.142\n",
            "9      10  18.812\n",
            "10     11  18.686\n",
            "11     12  19.018\n",
            "    month     CoV\n",
            "0       1  20.680\n",
            "1       2  20.806\n",
            "2       3  20.836\n",
            "3       4  20.831\n",
            "4       5  20.844\n",
            "5       6  20.788\n",
            "6       7  20.830\n",
            "7       8  20.811\n",
            "8       9  20.568\n",
            "9      10  20.830\n",
            "10     11  20.809\n",
            "11     12  20.843\n",
            "    month     CoV\n",
            "0       1  15.706\n",
            "1       2  15.714\n",
            "2       3  15.696\n",
            "3       4  15.630\n",
            "4       5  15.731\n",
            "5       6  15.431\n",
            "6       7  15.929\n",
            "7       8  15.596\n",
            "8       9  14.876\n",
            "9      10  15.743\n",
            "10     11  15.540\n",
            "11     12  15.719\n",
            "    month     CoV\n",
            "0       1  17.784\n",
            "1       2  17.718\n",
            "2       3  18.294\n",
            "3       4  18.187\n",
            "4       5  18.222\n",
            "5       6  17.624\n",
            "6       7  17.721\n",
            "7       8  17.356\n",
            "8       9  17.439\n",
            "9      10  17.961\n",
            "10     11  18.300\n",
            "11     12  18.120\n",
            "    month     CoV\n",
            "0       1  16.052\n",
            "1       2  16.065\n",
            "2       3  16.256\n",
            "3       4  15.852\n",
            "4       5  16.031\n",
            "5       6  15.823\n",
            "6       7  16.204\n",
            "7       8  15.888\n",
            "8       9  15.025\n",
            "9      10  16.248\n",
            "10     11  15.913\n",
            "11     12  16.245\n"
          ]
        }
      ]
    },
    {
      "cell_type": "code",
      "source": [],
      "metadata": {
        "id": "6ILAf3twkreu"
      },
      "execution_count": null,
      "outputs": []
    },
    {
      "cell_type": "markdown",
      "source": [
        "#Range of differences"
      ],
      "metadata": {
        "id": "ZTxgExkVjBnd"
      }
    },
    {
      "cell_type": "markdown",
      "source": [
        "VH"
      ],
      "metadata": {
        "id": "_vRbfBbNHceO"
      }
    },
    {
      "cell_type": "code",
      "source": [
        "print(\"GRD - GAMMA\")\n",
        "print(df_GRD_evergreen_vh.subtract(df_GAMMA_evergreen_vh).describe())\n",
        "print(\"GTC - GAMMA\")\n",
        "print(df_GTC_evergreen_vh.subtract(df_GAMMA_evergreen_vh).describe())\n",
        "print(\"SNAP - GAMMA\")\n",
        "print(df_SNAP_evergreen_vh.subtract(df_GAMMA_evergreen_vh).describe())\n",
        "print(\"ISCE - GAMMA\")\n",
        "print(df_ISCE_evergreen_vh.subtract(df_GAMMA_evergreen_vh).describe())"
      ],
      "metadata": {
        "colab": {
          "base_uri": "https://localhost:8080/"
        },
        "id": "5PKNK2_BHcA4",
        "outputId": "c986ab36-f8f4-43d1-ef7d-cd6cc11c791a"
      },
      "execution_count": 26,
      "outputs": [
        {
          "output_type": "stream",
          "name": "stdout",
          "text": [
            "GRD - GAMMA\n",
            "       month        CoV\n",
            "count   12.0  12.000000\n",
            "mean     0.0   2.715833\n",
            "std      0.0   0.150533\n",
            "min      0.0   2.560000\n",
            "25%      0.0   2.626000\n",
            "50%      0.0   2.682500\n",
            "75%      0.0   2.773000\n",
            "max      0.0   3.117000\n",
            "GTC - GAMMA\n",
            "       month        CoV\n",
            "count   12.0  12.000000\n",
            "mean     0.0   4.822833\n",
            "std      0.0   0.274631\n",
            "min      0.0   4.580000\n",
            "25%      0.0   4.619000\n",
            "50%      0.0   4.777000\n",
            "75%      0.0   4.933500\n",
            "max      0.0   5.543000\n",
            "SNAP - GAMMA\n",
            "       month        CoV\n",
            "count   12.0  12.000000\n",
            "mean     0.0  -0.357583\n",
            "std      0.0   0.123948\n",
            "min      0.0  -0.560000\n",
            "25%      0.0  -0.420250\n",
            "50%      0.0  -0.348500\n",
            "75%      0.0  -0.287750\n",
            "max      0.0  -0.149000\n",
            "ISCE - GAMMA\n",
            "       month        CoV\n",
            "count   12.0  12.000000\n",
            "mean     0.0   1.927000\n",
            "std      0.0   0.337573\n",
            "min      0.0   1.468000\n",
            "25%      0.0   1.698000\n",
            "50%      0.0   1.838000\n",
            "75%      0.0   2.227000\n",
            "max      0.0   2.414000\n"
          ]
        }
      ]
    },
    {
      "cell_type": "markdown",
      "source": [
        "VV"
      ],
      "metadata": {
        "id": "4DoV9j98HdaL"
      }
    },
    {
      "cell_type": "code",
      "source": [
        "print(\"grd to gamma\")\n",
        "print(df_GRD_evergreen_vv.subtract(df_GAMMA_evergreen_vv).describe())\n",
        "print(\"gtc to gamma\")\n",
        "print(df_GTC_evergreen_vv.subtract(df_GAMMA_evergreen_vv).describe())\n",
        "print(\"snap to gamma\")\n",
        "print(df_SNAP_evergreen_vv.subtract(df_GAMMA_evergreen_vv).describe())\n",
        "print(\"isce to gamma\")\n",
        "print(df_ISCE_evergreen_vv.subtract(df_GAMMA_evergreen_vv).describe())"
      ],
      "metadata": {
        "colab": {
          "base_uri": "https://localhost:8080/"
        },
        "id": "GEOKX8zKHYDJ",
        "outputId": "a69e48e0-910c-4083-e671-eb1388305554"
      },
      "execution_count": 27,
      "outputs": [
        {
          "output_type": "stream",
          "name": "stdout",
          "text": [
            "grd to gamma\n",
            "       month        CoV\n",
            "count   12.0  12.000000\n",
            "mean     0.0   3.001583\n",
            "std      0.0   0.203009\n",
            "min      0.0   2.718000\n",
            "25%      0.0   2.893000\n",
            "50%      0.0   3.025000\n",
            "75%      0.0   3.088000\n",
            "max      0.0   3.487000\n",
            "gtc to gamma\n",
            "       month        CoV\n",
            "count   12.0  12.000000\n",
            "mean     0.0  15.276750\n",
            "std      0.0   9.102389\n",
            "min      0.0   2.730000\n",
            "25%      0.0   3.122250\n",
            "50%      0.0  20.975000\n",
            "75%      0.0  21.800750\n",
            "max      0.0  22.482000\n",
            "snap to gamma\n",
            "       month        CoV\n",
            "count   12.0  12.000000\n",
            "mean     0.0  -0.192917\n",
            "std      0.0   0.107664\n",
            "min      0.0  -0.402000\n",
            "25%      0.0  -0.260000\n",
            "50%      0.0  -0.211000\n",
            "75%      0.0  -0.093750\n",
            "max      0.0  -0.054000\n",
            "isce to gamma\n",
            "       month        CoV\n",
            "count   12.0  12.000000\n",
            "mean     0.0   2.634667\n",
            "std      0.0   0.548616\n",
            "min      0.0   1.803000\n",
            "25%      0.0   2.380250\n",
            "50%      0.0   2.503000\n",
            "75%      0.0   2.938250\n",
            "max      0.0   3.746000\n"
          ]
        }
      ]
    }
  ]
}
